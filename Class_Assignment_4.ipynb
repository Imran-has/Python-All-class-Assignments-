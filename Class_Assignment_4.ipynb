{
  "nbformat": 4,
  "nbformat_minor": 0,
  "metadata": {
    "colab": {
      "provenance": [],
      "authorship_tag": "ABX9TyPaOoYVZhbwfrruZLLmxTY5",
      "include_colab_link": true
    },
    "kernelspec": {
      "name": "python3",
      "display_name": "Python 3"
    },
    "language_info": {
      "name": "python"
    }
  },
  "cells": [
    {
      "cell_type": "markdown",
      "metadata": {
        "id": "view-in-github",
        "colab_type": "text"
      },
      "source": [
        "<a href=\"https://colab.research.google.com/github/Imran-has/Python-All-class-Assignments-/blob/main/Class_Assignment_4.ipynb\" target=\"_parent\"><img src=\"https://colab.research.google.com/assets/colab-badge.svg\" alt=\"Open In Colab\"/></a>"
      ]
    },
    {
      "cell_type": "code",
      "execution_count": null,
      "metadata": {
        "colab": {
          "base_uri": "https://localhost:8080/"
        },
        "id": "WWQFFIIyZFkE",
        "outputId": "c661a481-61b0-4de8-ce32-294ef3733677"
      },
      "outputs": [
        {
          "output_type": "stream",
          "name": "stdout",
          "text": [
            "Final fruits list: ['apple', 'mango', 'orange', 'grape']\n",
            "All numbers: [10, 20, 30, 40, 50, 60, 70, 80]\n",
            "Reversed copy: [80, 70, 60, 50, 40, 30, 20, 10]\n",
            "Scores in ascending order: [65, 74, 78, 85, 85, 92, 92]\n",
            "Scores in descending order: [92, 92, 85, 85, 78, 74, 65]\n",
            "Count of 92: 2\n",
            "Highest score: 92\n",
            "Lowest score: 65\n",
            "Final sorted scores: [92, 92, 85, 85, 78, 74, 65]\n",
            "First three letters: ['a', 'b', 'c']\n",
            "Last two letters: ['d', 'e']\n",
            "Index of 'c': 2\n",
            "Modified letters list: ['a', 'b', 'c', 'z', 'e']\n",
            "Student name: imran\n",
            "Student age: 29\n",
            "Student grade: A\n",
            "Student major: Computer Science\n"
          ]
        }
      ],
      "source": [
        "\n",
        "# List Methods Practice\n",
        "\n",
        "# 1. Create and Modify Lists\n",
        "fruits = [\"apple\", \"banana\", \"orange\"]\n",
        "fruits.append(\"grape\")\n",
        "fruits.insert(2, \"mango\")\n",
        "fruits.remove(\"banana\")\n",
        "print(\"Final fruits list:\", fruits)\n",
        "\n",
        "# 2. List Operations\n",
        "numbers = [10, 20, 30, 40, 50]\n",
        "more_numbers = [60, 70, 80]\n",
        "all_numbers = numbers + more_numbers\n",
        "numbers_copy = all_numbers.copy()\n",
        "numbers_copy.reverse()\n",
        "print(\"All numbers:\", all_numbers)\n",
        "print(\"Reversed copy:\", numbers_copy)\n",
        "\n",
        "# 3. Sorting and Counting\n",
        "scores = [85, 92, 78, 65, 92, 85, 74]\n",
        "scores.sort()\n",
        "print(\"Scores in ascending order:\", scores)\n",
        "scores.sort(reverse=True)\n",
        "print(\"Scores in descending order:\", scores)\n",
        "print(\"Count of 92:\", scores.count(92))\n",
        "print(\"Highest score:\", max(scores))\n",
        "print(\"Lowest score:\", min(scores))\n",
        "print(\"Final sorted scores:\", scores)\n",
        "\n",
        "# 4. List Manipulation\n",
        "letters = [\"a\", \"b\", \"c\", \"d\", \"e\"]\n",
        "first_three = letters[:3]\n",
        "last_two = letters[-2:]\n",
        "index_c = letters.index(\"c\")\n",
        "letters[letters.index(\"d\")] = \"z\"\n",
        "print(\"First three letters:\", first_three)\n",
        "print(\"Last two letters:\", last_two)\n",
        "print(\"Index of 'c':\", index_c)\n",
        "print(\"Modified letters list:\", letters)"
      ]
    },
    {
      "cell_type": "code",
      "source": [
        "#dictionary task\n",
        "# 1. Create and Access Dictionaries\n",
        "student = {\n",
        "    \"name\": \"John\",\n",
        "    \"age\": 20,\n",
        "    \"grade\": \"A\",\n",
        "    \"courses\": [\"Math\", \"Science\", \"History\"]\n",
        "}\n",
        "\n",
        "# Print the student's name\n",
        "print(\"Name:\", student[\"name\"])\n",
        "\n",
        "# Print the list of courses\n",
        "print(\"Courses:\", student[\"courses\"])\n",
        "\n",
        "# Add a new key-value pair\n",
        "student[\"email\"] = \"john@example.com\"\n",
        "\n",
        "# Print the entire dictionary\n",
        "print(\"\\nStudent Dictionary:\")\n",
        "print(student)\n",
        "\n",
        "# 2. Modify Dictionary Values\n",
        "student[\"age\"] = 21\n",
        "student[\"courses\"].append(\"Computer Science\")\n",
        "student[\"grade\"] = \"A+\"\n",
        "\n",
        "# Print the modified dictionary\n",
        "print(\"\\nModified Student Dictionary:\")\n",
        "print(student)\n",
        "\n",
        "# 3. Dictionary Operations\n",
        "student_address = {\n",
        "    \"street\": \"123 College Ave\",\n",
        "    \"city\": \"New York\",\n",
        "    \"zip\": \"10001\"\n",
        "}\n",
        "\n",
        "# Combine both dictionaries\n",
        "student_info = student.copy()\n",
        "student_info.update(student_address)\n",
        "\n",
        "# Remove the \"zip\" key\n",
        "student_info.pop(\"zip\")\n",
        "\n",
        "# Check if \"phone\" exists in dictionary\n",
        "has_phone = \"phone\" in student_info\n",
        "print(\"\\nContains 'phone'? -\", has_phone)\n",
        "\n",
        "# Print the final dictionary\n",
        "print(\"\\nFinal Student Info:\")\n",
        "print(student_info)\n",
        "\n",
        "# 4. Dictionary Methods\n",
        "word_count = {\n",
        "    \"hello\": 5,\n",
        "    \"world\": 10,\n",
        "    \"python\": 15\n",
        "}\n",
        "\n",
        "# Get all keys\n",
        "print(\"\\nKeys:\", list(word_count.keys()))\n",
        "\n",
        "# Get all values\n",
        "print(\"Values:\", list(word_count.values()))\n",
        "\n",
        "# Get all key-value pairs\n",
        "print(\"Items:\", list(word_count.items()))\n",
        "\n",
        "# Make a copy of the dictionary\n",
        "word_count_copy = word_count.copy()\n",
        "\n",
        "# Clear the original dictionary\n",
        "word_count.clear()\n",
        "\n",
        "# Print both dictionaries\n",
        "print(\"\\nOriginal Dictionary (after clear):\", word_count)\n",
        "print(\"Copied Dictionary:\", word_count_copy)"
      ],
      "metadata": {
        "colab": {
          "base_uri": "https://localhost:8080/"
        },
        "id": "DQTwIYx0kROB",
        "outputId": "3f1f1bbe-21d3-480f-a4f2-286cd5d8c925"
      },
      "execution_count": null,
      "outputs": [
        {
          "output_type": "stream",
          "name": "stdout",
          "text": [
            "Name: John\n",
            "Courses: ['Math', 'Science', 'History']\n",
            "\n",
            "Student Dictionary:\n",
            "{'name': 'John', 'age': 20, 'grade': 'A', 'courses': ['Math', 'Science', 'History'], 'email': 'john@example.com'}\n",
            "\n",
            "Modified Student Dictionary:\n",
            "{'name': 'John', 'age': 21, 'grade': 'A+', 'courses': ['Math', 'Science', 'History', 'Computer Science'], 'email': 'john@example.com'}\n",
            "\n",
            "Contains 'phone'? - False\n",
            "\n",
            "Final Student Info:\n",
            "{'name': 'John', 'age': 21, 'grade': 'A+', 'courses': ['Math', 'Science', 'History', 'Computer Science'], 'email': 'john@example.com', 'street': '123 College Ave', 'city': 'New York'}\n",
            "\n",
            "Keys: ['hello', 'world', 'python']\n",
            "Values: [5, 10, 15]\n",
            "Items: [('hello', 5), ('world', 10), ('python', 15)]\n",
            "\n",
            "Original Dictionary (after clear): {}\n",
            "Copied Dictionary: {'hello': 5, 'world': 10, 'python': 15}\n"
          ]
        }
      ]
    },
    {
      "cell_type": "code",
      "source": [
        "\n",
        "# Initial variables\n",
        "purchase_amount = 120.0\n",
        "is_loyalty_member = True\n",
        "day_of_week = \"Saturday\"\n",
        "is_holiday_season = True\n",
        "\n",
        "# Initialize total discount\n",
        "total_discount = 0\n",
        "\n",
        "print(\"Original purchase amount: $\", purchase_amount)\n",
        "\n",
        "# Apply base discount based on purchase amount\n",
        "if purchase_amount > 100:\n",
        "    discount = purchase_amount * 0.10\n",
        "    total_discount += discount\n",
        "    print(\"10% discount applied: $\", round(discount, 2))\n",
        "elif purchase_amount > 50:\n",
        "    discount = purchase_amount * 0.05\n",
        "    total_discount += discount\n",
        "    print(\"5% discount applied: $\", round(discount, 2))\n",
        "\n",
        "# Apply loyalty member discount\n",
        "if is_loyalty_member:\n",
        "    discount = purchase_amount * 0.05\n",
        "    total_discount += discount\n",
        "    print(\"Loyalty member 5% discount applied: $\", round(discount, 2))\n",
        "\n",
        "# Apply weekend discount\n",
        "if day_of_week in [\"Saturday\", \"Sunday\"]:\n",
        "    discount = purchase_amount * 0.02\n",
        "    total_discount += discount\n",
        "    print(\"Weekend 2% discount applied: $\", round(discount, 2))\n",
        "\n",
        "# Apply holiday season discount\n",
        "if is_holiday_season:\n",
        "    discount = purchase_amount * 0.08\n",
        "    total_discount += discount\n",
        "    print(\"Holiday season 8% discount applied: $\", round(discount, 2))\n",
        "\n",
        "# Calculate final price\n",
        "final_price = purchase_amount - total_discount\n",
        "print(\"Total discount: $\", round(total_discount, 2))\n",
        "print(\"Final price after all discounts: $\", round(final_price, 2))"
      ],
      "metadata": {
        "colab": {
          "base_uri": "https://localhost:8080/"
        },
        "id": "0e9Np5rc7XD9",
        "outputId": "763f6915-474d-4fd7-9678-654af9251b11"
      },
      "execution_count": null,
      "outputs": [
        {
          "output_type": "stream",
          "name": "stdout",
          "text": [
            "Original purchase amount: $ 120.0\n",
            "10% discount applied: $ 12.0\n",
            "Loyalty member 5% discount applied: $ 6.0\n",
            "Weekend 2% discount applied: $ 2.4\n",
            "Holiday season 8% discount applied: $ 9.6\n",
            "Total discount: $ 30.0\n",
            "Final price after all discounts: $ 90.0\n"
          ]
        }
      ]
    },
    {
      "cell_type": "code",
      "source": [
        "#For Loop Assignment - Number Patterns\n",
        "# Pattern 1: Counting Numbers\n",
        "for i in range(1, 11):\n",
        "    print(i, end=' ')\n",
        "print()  # Newline after the pattern\n",
        "\n",
        "# Pattern 2: Multiplication Table for 5\n",
        "for i in range(1, 11):\n",
        "    print(f\"5 x {i} = {5 * i}\")\n",
        "\n",
        "#While Loop Assignment - Interactive Game\n",
        "import random\n",
        "\n",
        "secret_number = random.randint(1, 50)\n",
        "guess = None\n",
        "attempts = 0\n",
        "\n",
        "print(\"Guess the secret number between 1 and 50!\")\n",
        "\n",
        "while guess != secret_number:\n",
        "    guess = int(input(\"Enter your guess: \"))\n",
        "    attempts += 1\n",
        "\n",
        "    if guess < secret_number:\n",
        "        print(\"Too low!\")\n",
        "    elif guess > secret_number:\n",
        "        print(\"Too high!\")\n",
        "\n",
        "print(f\"Congratulations! You guessed the number in {attempts} attempts.\")"
      ],
      "metadata": {
        "colab": {
          "base_uri": "https://localhost:8080/"
        },
        "id": "dbxRvRfx723i",
        "outputId": "10c81ba4-8e65-4099-daf8-c1fcf8f1bbec"
      },
      "execution_count": null,
      "outputs": [
        {
          "metadata": {
            "tags": null
          },
          "name": "stdout",
          "output_type": "stream",
          "text": [
            "1 2 3 4 5 6 7 8 9 10 \n",
            "5 x 1 = 5\n",
            "5 x 2 = 10\n",
            "5 x 3 = 15\n",
            "5 x 4 = 20\n",
            "5 x 5 = 25\n",
            "5 x 6 = 30\n",
            "5 x 7 = 35\n",
            "5 x 8 = 40\n",
            "5 x 9 = 45\n",
            "5 x 10 = 50\n",
            "Guess the secret number between 1 and 50!\n"
          ]
        }
      ]
    },
    {
      "cell_type": "code",
      "source": [
        "#Student Grade Management System\n",
        "students = []\n",
        "\n",
        "# Adding 3 students\n",
        "students.append({\n",
        "    \"name\": \"imran\",\n",
        "    \"id\": \"S101\",\n",
        "    \"grades\": {\"Math\": 85, \"Science\": 90, \"English\": 78}\n",
        "})\n",
        "\n",
        "students.append({\n",
        "    \"name\": \"Beenish\",\n",
        "    \"id\": \"S102\",\n",
        "    \"grades\": {\"Math\": 75, \"Science\": 88, \"English\": 82}\n",
        "})\n",
        "\n",
        "students.append({\n",
        "    \"name\": \"Asad\",\n",
        "    \"id\": \"S103\",\n",
        "    \"grades\": {\"Math\": 92, \"Science\": 85, \"English\": 89}\n",
        "})\n",
        "\n",
        "# Display all students with their grades\n",
        "for student in students:\n",
        "    print(f\"Name: {student['name']}, ID: {student['id']}\")\n",
        "    for course, grade in student[\"grades\"].items():\n",
        "        print(f\"  {course}: {grade}\")\n",
        "    print()"
      ],
      "metadata": {
        "id": "84-89Aep9maJ"
      },
      "execution_count": null,
      "outputs": []
    }
  ]
}